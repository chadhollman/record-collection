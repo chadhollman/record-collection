{
 "cells": [
  {
   "cell_type": "code",
   "execution_count": 1,
   "metadata": {},
   "outputs": [
    {
     "data": {
      "text/plain": [
       "(      Catalog#                          Artist             Title  \\\n",
       " 0  202020.07LP                     Galaxie 500             Today   \n",
       " 1  202020.08LP                     Galaxie 500           On Fire   \n",
       " 2  88985484041  Daniele Luppi & Parquet Courts            Milano   \n",
       " 3    4AD0001LP                  Future Islands    The Far Field    \n",
       " 4   4AD0020LPE                    The National  Sleep Well Beast   \n",
       " \n",
       "                             Label                          Format  Rating  \\\n",
       " 0                        20|20|20               LP, Album, RE, RM     NaN   \n",
       " 1                        20|20|20               LP, Album, RE, RM     NaN   \n",
       " 2  30th Century Records, Columbia  LP, Album, Club, Ltd, Num, Yel     NaN   \n",
       " 3                             4AD                       LP, Album     NaN   \n",
       " 4                             4AD                2xLP, Album, Whi     NaN   \n",
       " \n",
       "    Released  release_id CollectionFolder           Date Added  \\\n",
       " 0      2009     1992850    Uncategorized  2022-01-03 18:01:31   \n",
       " 1      2009     1992868    Uncategorized  2020-04-28 21:24:40   \n",
       " 2      2017    11142196    Uncategorized  2018-07-15 20:34:30   \n",
       " 3      2017    10099509    Uncategorized  2020-04-28 21:25:05   \n",
       " 4      2017    10811249    Uncategorized  2020-08-30 13:57:07   \n",
       " \n",
       "   Collection Media Condition Collection Sleeve Condition  Collection Notes  \n",
       " 0                        NaN                         NaN               NaN  \n",
       " 1                        NaN                         NaN               NaN  \n",
       " 2                        NaN                         NaN               NaN  \n",
       " 3                        NaN                         NaN               NaN  \n",
       " 4                        NaN                         NaN               NaN  ,\n",
       " Catalog#                        object\n",
       " Artist                          object\n",
       " Title                           object\n",
       " Label                           object\n",
       " Format                          object\n",
       " Rating                         float64\n",
       " Released                         int64\n",
       " release_id                       int64\n",
       " CollectionFolder                object\n",
       " Date Added                      object\n",
       " Collection Media Condition      object\n",
       " Collection Sleeve Condition     object\n",
       " Collection Notes               float64\n",
       " dtype: object)"
      ]
     },
     "execution_count": 1,
     "metadata": {},
     "output_type": "execute_result"
    }
   ],
   "source": [
    "import pandas as pd\n",
    "import numpy as np\n",
    "\n",
    "# Load the dataset to inspect its contents\n",
    "file_path = 'recordcollection.csv'\n",
    "df = pd.read_csv(file_path)\n",
    "\n",
    "# Display the first few rows and data types to understand the structure\n",
    "df.head(), df.dtypes"
   ]
  },
  {
   "cell_type": "code",
   "execution_count": 2,
   "metadata": {},
   "outputs": [],
   "source": [
    "# json_data = df.to_json(orient='records', date_format='iso')\n",
    "\n",
    "# # Save the JSON data to a file\n",
    "# json_file_path = 'recordcollection.json'\n",
    "# with open(json_file_path, 'w') as json_file:\n",
    "#     json_file.write(json_data)\n",
    "\n",
    "# json_file_path"
   ]
  },
  {
   "cell_type": "code",
   "execution_count": 3,
   "metadata": {},
   "outputs": [
    {
     "name": "stderr",
     "output_type": "stream",
     "text": [
      "C:\\Users\\chadh\\AppData\\Local\\Temp\\ipykernel_23180\\2689465609.py:3: SettingWithCopyWarning: \n",
      "A value is trying to be set on a copy of a slice from a DataFrame.\n",
      "Try using .loc[row_indexer,col_indexer] = value instead\n",
      "\n",
      "See the caveats in the documentation: https://pandas.pydata.org/pandas-docs/stable/user_guide/indexing.html#returning-a-view-versus-a-copy\n",
      "  df_selected['Released'] = df_selected['Released'].replace(0, np.nan)\n"
     ]
    },
    {
     "data": {
      "text/plain": [
       "'../recordcollection.json'"
      ]
     },
     "execution_count": 3,
     "metadata": {},
     "output_type": "execute_result"
    }
   ],
   "source": [
    "df_selected = df[['Catalog#', 'Artist', 'Title', 'Label', 'Released']]\n",
    "\n",
    "df_selected['Released'] = df_selected['Released'].replace(0, np.nan)\n",
    "\n",
    "# Convert to JSON format with the selected columns, now including null for 0 values in 'Released'\n",
    "json_data_selected = df_selected.to_json(orient='records', date_format='iso')\n",
    "\n",
    "# Save the modified JSON data to a new file\n",
    "json_file_path_selected = '../recordcollection.json'\n",
    "with open(json_file_path_selected, 'w') as json_file_selected:\n",
    "    json_file_selected.write(json_data_selected)\n",
    "\n",
    "json_file_path_selected"
   ]
  }
 ],
 "metadata": {
  "kernelspec": {
   "display_name": "dev",
   "language": "python",
   "name": "python3"
  },
  "language_info": {
   "codemirror_mode": {
    "name": "ipython",
    "version": 3
   },
   "file_extension": ".py",
   "mimetype": "text/x-python",
   "name": "python",
   "nbconvert_exporter": "python",
   "pygments_lexer": "ipython3",
   "version": "3.12.4"
  }
 },
 "nbformat": 4,
 "nbformat_minor": 2
}
